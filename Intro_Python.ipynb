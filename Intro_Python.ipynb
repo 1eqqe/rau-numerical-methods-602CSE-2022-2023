{
  "nbformat": 4,
  "nbformat_minor": 0,
  "metadata": {
    "colab": {
      "provenance": []
    },
    "kernelspec": {
      "name": "python3",
      "display_name": "Python 3"
    },
    "language_info": {
      "name": "python"
    }
  },
  "cells": [
    {
      "cell_type": "code",
      "execution_count": null,
      "metadata": {
        "id": "VP6xb3Jfl93i"
      },
      "outputs": [],
      "source": [
        "def is_even(a=10):\n",
        "  if a % 2 == 0:\n",
        "    return True\n",
        "  else:\n",
        "    return False"
      ]
    },
    {
      "cell_type": "code",
      "source": [
        "is_even()"
      ],
      "metadata": {
        "colab": {
          "base_uri": "https://localhost:8080/"
        },
        "id": "I9DaAMpNosmc",
        "outputId": "10eccb0e-6e8e-4333-f265-1d9f99029c04"
      },
      "execution_count": null,
      "outputs": [
        {
          "output_type": "execute_result",
          "data": {
            "text/plain": [
              "True"
            ]
          },
          "metadata": {},
          "execution_count": 2
        }
      ]
    },
    {
      "cell_type": "code",
      "source": [
        "is_even(7)"
      ],
      "metadata": {
        "colab": {
          "base_uri": "https://localhost:8080/"
        },
        "id": "ramnjUw_o1bH",
        "outputId": "a01dac60-25d7-4a1d-b448-22d69ff021de"
      },
      "execution_count": null,
      "outputs": [
        {
          "output_type": "execute_result",
          "data": {
            "text/plain": [
              "False"
            ]
          },
          "metadata": {},
          "execution_count": 3
        }
      ]
    },
    {
      "cell_type": "code",
      "source": [
        "x = 101\n",
        "is_even(x)"
      ],
      "metadata": {
        "colab": {
          "base_uri": "https://localhost:8080/"
        },
        "id": "LIHgJtHOo9pM",
        "outputId": "b67cd520-8e3a-4831-fc0f-131c1d3f0f35"
      },
      "execution_count": null,
      "outputs": [
        {
          "output_type": "execute_result",
          "data": {
            "text/plain": [
              "False"
            ]
          },
          "metadata": {},
          "execution_count": 4
        }
      ]
    },
    {
      "cell_type": "code",
      "source": [
        "import numpy as np \n",
        "import pandas as pd \n",
        "from numpy import random\n",
        "\n",
        "a = np.array([1, 1, 2, 3, 4])\n",
        "a"
      ],
      "metadata": {
        "colab": {
          "base_uri": "https://localhost:8080/"
        },
        "id": "zkxbcajZpffx",
        "outputId": "42f3ba99-72df-4211-9456-ca3f741088d5"
      },
      "execution_count": null,
      "outputs": [
        {
          "output_type": "execute_result",
          "data": {
            "text/plain": [
              "array([1, 1, 2, 3, 4])"
            ]
          },
          "metadata": {},
          "execution_count": 6
        }
      ]
    },
    {
      "cell_type": "code",
      "source": [
        "import numpy\n",
        "a = numpy.array([1, 1, 2, 3, 4])\n",
        "a"
      ],
      "metadata": {
        "colab": {
          "base_uri": "https://localhost:8080/"
        },
        "id": "nq3be83VqZ1r",
        "outputId": "849a357d-60dc-457b-e90a-2c023ce482e4"
      },
      "execution_count": null,
      "outputs": [
        {
          "output_type": "execute_result",
          "data": {
            "text/plain": [
              "array([1, 1, 2, 3, 4])"
            ]
          },
          "metadata": {},
          "execution_count": 7
        }
      ]
    },
    {
      "cell_type": "code",
      "source": [
        "# colab vs editor \n",
        "# tuple\n",
        "# set\n",
        "# dict\n",
        "# json\n",
        "# csv \n",
        "# class "
      ],
      "metadata": {
        "id": "HWBaFQfaq8_s"
      },
      "execution_count": null,
      "outputs": []
    },
    {
      "cell_type": "code",
      "source": [
        "l1 = [1, 2, 3, 4, \"a\", \"b\", [1, 2, 3, 4, 5]]\n",
        "l1[0]"
      ],
      "metadata": {
        "colab": {
          "base_uri": "https://localhost:8080/"
        },
        "id": "zQi8USu6uraM",
        "outputId": "bd01526d-7b06-4944-b03c-29aedf28c70a"
      },
      "execution_count": null,
      "outputs": [
        {
          "output_type": "execute_result",
          "data": {
            "text/plain": [
              "1"
            ]
          },
          "metadata": {},
          "execution_count": 8
        }
      ]
    },
    {
      "cell_type": "code",
      "source": [
        "l1[0] = \"value\"\n",
        "l1"
      ],
      "metadata": {
        "colab": {
          "base_uri": "https://localhost:8080/"
        },
        "id": "l8tqAzhCu73O",
        "outputId": "01b06dd9-7090-4a6d-dd7f-3d4228db19ee"
      },
      "execution_count": null,
      "outputs": [
        {
          "output_type": "execute_result",
          "data": {
            "text/plain": [
              "['value', 2, 3, 4, 'a', 'b', [1, 2, 3, 4, 5]]"
            ]
          },
          "metadata": {},
          "execution_count": 9
        }
      ]
    },
    {
      "cell_type": "code",
      "source": [
        "l1.remove(2)\n",
        "l1"
      ],
      "metadata": {
        "colab": {
          "base_uri": "https://localhost:8080/"
        },
        "id": "nC0R1dJ7vB9h",
        "outputId": "ba513cc6-01c7-4fd7-82e1-1a12e4070d2c"
      },
      "execution_count": null,
      "outputs": [
        {
          "output_type": "execute_result",
          "data": {
            "text/plain": [
              "['value', 3, 4, 'a', 'b', [1, 2, 3, 4, 5]]"
            ]
          },
          "metadata": {},
          "execution_count": 10
        }
      ]
    },
    {
      "cell_type": "code",
      "source": [
        "l1.append(2)\n",
        "l1"
      ],
      "metadata": {
        "colab": {
          "base_uri": "https://localhost:8080/"
        },
        "id": "jNhDCVXOvjKX",
        "outputId": "dfe8263b-da5f-4313-ba4c-6a4f79ced8ef"
      },
      "execution_count": null,
      "outputs": [
        {
          "output_type": "execute_result",
          "data": {
            "text/plain": [
              "['value', 3, 4, 'a', 'b', [1, 2, 3, 4, 5], 2]"
            ]
          },
          "metadata": {},
          "execution_count": 11
        }
      ]
    },
    {
      "cell_type": "code",
      "source": [
        "t1 = ([1, 2], 1, 2, 3, 4, 5, 10, \"a\", [1, 2], (10, 1))\n",
        "t1[0][1] = \"new value\"\n",
        "t1"
      ],
      "metadata": {
        "colab": {
          "base_uri": "https://localhost:8080/"
        },
        "id": "WPB-tSQVvmUw",
        "outputId": "0f35fe68-2432-4945-add2-ab16cb738d6c"
      },
      "execution_count": null,
      "outputs": [
        {
          "output_type": "execute_result",
          "data": {
            "text/plain": [
              "([1, 'new value'], 1, 2, 3, 4, 5, 10, 'a', [1, 2], (10, 1))"
            ]
          },
          "metadata": {},
          "execution_count": 13
        }
      ]
    },
    {
      "cell_type": "code",
      "source": [
        "l2 = l1 \n",
        "l2[0] = \"second change\"\n",
        "l1, l2"
      ],
      "metadata": {
        "colab": {
          "base_uri": "https://localhost:8080/"
        },
        "id": "7YCGcm3TwBb_",
        "outputId": "d1244f48-8e51-4b0a-dbec-9c498357c483"
      },
      "execution_count": null,
      "outputs": [
        {
          "output_type": "execute_result",
          "data": {
            "text/plain": [
              "(['second change', 3, 4, 'a', 'b', [1, 2, 3, 4, 5], 2],\n",
              " ['second change', 3, 4, 'a', 'b', [1, 2, 3, 4, 5], 2])"
            ]
          },
          "metadata": {},
          "execution_count": 14
        }
      ]
    },
    {
      "cell_type": "code",
      "source": [
        "l1 = [1, 2, 3]\n",
        "def create_new_list_with_5(l):\n",
        "  l1 = list(l)\n",
        "  l1.append(5)\n",
        "  return l1\n",
        "\n",
        "l2 = create_new_list_with_5(l1)\n",
        "l1, l2"
      ],
      "metadata": {
        "colab": {
          "base_uri": "https://localhost:8080/"
        },
        "id": "e0vtPiyHwe43",
        "outputId": "05254ec7-f952-4b4c-c38f-f0cc9b5ab454"
      },
      "execution_count": null,
      "outputs": [
        {
          "output_type": "execute_result",
          "data": {
            "text/plain": [
              "([1, 2, 3], [1, 2, 3, 5])"
            ]
          },
          "metadata": {},
          "execution_count": 16
        }
      ]
    },
    {
      "cell_type": "code",
      "source": [
        "l1 = [1, 2, 2, 2, 2, 1, 1, 1, 1, 2]\n",
        "s1 = set(l1)\n",
        "s1"
      ],
      "metadata": {
        "colab": {
          "base_uri": "https://localhost:8080/"
        },
        "id": "yYU0eg0Aw5sn",
        "outputId": "2545b84d-5636-40b1-d396-498b8b3de28c"
      },
      "execution_count": null,
      "outputs": [
        {
          "output_type": "execute_result",
          "data": {
            "text/plain": [
              "{1, 2}"
            ]
          },
          "metadata": {},
          "execution_count": 17
        }
      ]
    },
    {
      "cell_type": "code",
      "source": [
        "user = {\n",
        "    \"name\": {\n",
        "        \"first_name\": \"L\",\n",
        "        \"last_name\": \"T\"\n",
        "    },\n",
        "    \"address\": {\n",
        "        \"street\": \"s1\",\n",
        "        \"number\": 10,\n",
        "        \"city\": \"B\",\n",
        "        \"postcode\": \"23333\",\n",
        "    },\n",
        "    \"transactions\": []\n",
        "}\n",
        "\n",
        "u = [[\"L\", \"T\"], [\"s1\", 10, \"B\", \"23333\"], []]\n",
        "user[\"address\"][\"postcode\"]\n"
      ],
      "metadata": {
        "colab": {
          "base_uri": "https://localhost:8080/",
          "height": 36
        },
        "id": "rUFNN7-txdtI",
        "outputId": "cfc3381f-8f5b-403f-deb2-f2c1958357a2"
      },
      "execution_count": null,
      "outputs": [
        {
          "output_type": "execute_result",
          "data": {
            "text/plain": [
              "'23333'"
            ],
            "application/vnd.google.colaboratory.intrinsic+json": {
              "type": "string"
            }
          },
          "metadata": {},
          "execution_count": 19
        }
      ]
    },
    {
      "cell_type": "code",
      "source": [
        "from enum import Enum \n",
        "class Gender(Enum):\n",
        "  MALE = 0, \n",
        "  FEMALE = 1\n",
        "\n",
        "d = {\n",
        "    Gender.MALE: [],\n",
        "    Gender.FEMALE: []\n",
        "}\n",
        "d[Gender.MALE]"
      ],
      "metadata": {
        "colab": {
          "base_uri": "https://localhost:8080/"
        },
        "id": "scRfhDu4y2LF",
        "outputId": "e4327b3d-f680-4c25-ade4-2770bb3bac1b"
      },
      "execution_count": null,
      "outputs": [
        {
          "output_type": "execute_result",
          "data": {
            "text/plain": [
              "[]"
            ]
          },
          "metadata": {},
          "execution_count": 21
        }
      ]
    },
    {
      "cell_type": "code",
      "source": [
        "user[\"name\"][\"first_name\"] = \"C\"\n",
        "user[\"budget\"] = 10\n",
        "user"
      ],
      "metadata": {
        "colab": {
          "base_uri": "https://localhost:8080/"
        },
        "id": "mXrA-KH7zYqx",
        "outputId": "21043074-180d-4976-865d-85f8b0c8e92a"
      },
      "execution_count": null,
      "outputs": [
        {
          "output_type": "execute_result",
          "data": {
            "text/plain": [
              "{'name': {'first_name': 'C', 'last_name': 'T'},\n",
              " 'address': {'street': 's1', 'number': 10, 'city': 'B', 'postcode': '23333'},\n",
              " 'transactions': [],\n",
              " 'budget': 10}"
            ]
          },
          "metadata": {},
          "execution_count": 22
        }
      ]
    },
    {
      "cell_type": "code",
      "source": [
        "import json\n",
        "\n",
        "with open(\"D:\\\\sample.json\", \"w\") as f:\n",
        "  json.dump(user, f)"
      ],
      "metadata": {
        "id": "ZM6BhTRxz66S"
      },
      "execution_count": null,
      "outputs": []
    },
    {
      "cell_type": "code",
      "source": [
        "with open(\"D:\\\\sample.json\", \"r\") as f:\n",
        "  data = json.load(f)\n",
        "data"
      ],
      "metadata": {
        "colab": {
          "base_uri": "https://localhost:8080/"
        },
        "id": "yX5ORiJQ0lIb",
        "outputId": "6e5b2aa5-4270-4f63-9d4e-b111400f2d92"
      },
      "execution_count": null,
      "outputs": [
        {
          "output_type": "execute_result",
          "data": {
            "text/plain": [
              "{'name': {'first_name': 'C', 'last_name': 'T'},\n",
              " 'address': {'street': 's1', 'number': 10, 'city': 'B', 'postcode': '23333'},\n",
              " 'transactions': [],\n",
              " 'budget': 10}"
            ]
          },
          "metadata": {},
          "execution_count": 25
        }
      ]
    },
    {
      "cell_type": "code",
      "source": [
        "def validate_transaction(user): \n",
        "  is_valid = False\n",
        "  if len(user[\"transactions\"]) > 0:\n",
        "    is_valid = True\n",
        "  return is_valid\n",
        "\n",
        "def sum_transactions(user):\n",
        "  s = 0 \n",
        "  for t in user[\"transactions\"]:\n",
        "    s = s + t\n",
        "  return s\n",
        "\n",
        "is_transaction_valid = validate_transaction(user)\n",
        "transaction_amount = sum_transactions(user)\n",
        "\n"
      ],
      "metadata": {
        "id": "arHlKAuF1HNM"
      },
      "execution_count": null,
      "outputs": []
    },
    {
      "cell_type": "code",
      "source": [
        "class Name:\n",
        "  def __init__(self, first_name, last_name):\n",
        "    self.first_name = first_name\n",
        "    self.last_name = last_name \n",
        "  \n",
        "  def validate(self):\n",
        "    if self.first_name == \"\":\n",
        "      return False\n",
        "    \n",
        "    if self.last_name == \"\":\n",
        "      return False\n",
        "      "
      ],
      "metadata": {
        "id": "uxtrgjCq4mGE"
      },
      "execution_count": null,
      "outputs": []
    },
    {
      "cell_type": "code",
      "source": [
        "new_name = Name(\"L\", \"R\")"
      ],
      "metadata": {
        "id": "K1tNDfGb5ahN"
      },
      "execution_count": null,
      "outputs": []
    },
    {
      "cell_type": "code",
      "source": [
        "new_name.first_name"
      ],
      "metadata": {
        "colab": {
          "base_uri": "https://localhost:8080/",
          "height": 36
        },
        "id": "fvXs9H9a5jyf",
        "outputId": "80bf5b1e-edc5-446d-f8f9-dca3d6cc68cf"
      },
      "execution_count": null,
      "outputs": [
        {
          "output_type": "execute_result",
          "data": {
            "text/plain": [
              "'L'"
            ],
            "application/vnd.google.colaboratory.intrinsic+json": {
              "type": "string"
            }
          },
          "metadata": {},
          "execution_count": 34
        }
      ]
    },
    {
      "cell_type": "code",
      "source": [
        "new_name.first_name = \"Y\"\n",
        "new_name.first_name"
      ],
      "metadata": {
        "colab": {
          "base_uri": "https://localhost:8080/",
          "height": 36
        },
        "id": "SCytZ13O5pdw",
        "outputId": "ac9fafc8-785d-4eee-ec6f-1ad9df091718"
      },
      "execution_count": null,
      "outputs": [
        {
          "output_type": "execute_result",
          "data": {
            "text/plain": [
              "'Y'"
            ],
            "application/vnd.google.colaboratory.intrinsic+json": {
              "type": "string"
            }
          },
          "metadata": {},
          "execution_count": 35
        }
      ]
    },
    {
      "cell_type": "code",
      "source": [
        "n = Name(\"\", \"\")\n",
        "n.validate()"
      ],
      "metadata": {
        "colab": {
          "base_uri": "https://localhost:8080/"
        },
        "id": "Ziv4ShRc5shz",
        "outputId": "bca721e9-4010-41af-c237-67a9e999e720"
      },
      "execution_count": null,
      "outputs": [
        {
          "output_type": "execute_result",
          "data": {
            "text/plain": [
              "False"
            ]
          },
          "metadata": {},
          "execution_count": 36
        }
      ]
    },
    {
      "cell_type": "code",
      "source": [],
      "metadata": {
        "id": "zKhTfYmo6g3-"
      },
      "execution_count": null,
      "outputs": []
    }
  ]
}