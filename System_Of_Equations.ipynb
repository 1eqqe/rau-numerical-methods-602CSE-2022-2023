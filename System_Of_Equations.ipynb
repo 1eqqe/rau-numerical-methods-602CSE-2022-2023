{
 "cells": [
  {
   "cell_type": "code",
   "execution_count": 30,
   "metadata": {
    "collapsed": true
   },
   "outputs": [],
   "source": [
    "import sys\n",
    "\n",
    "import numpy as np"
   ]
  },
  {
   "cell_type": "code",
   "execution_count": 39,
   "outputs": [],
   "source": [
    "n = 5\n",
    "a = np.zeros((n, n+1))\n",
    "x = np.zeros(n)\n",
    "\n",
    "for i in range(n):\n",
    "    for j in range(n+1):\n",
    "        a[i, j] = int(np.random.random() * 10)\n",
    "        if a[i, j] == 0:\n",
    "            a[i, j] = int(np.random.random() * 10)"
   ],
   "metadata": {
    "collapsed": false,
    "pycharm": {
     "name": "#%%\n"
    }
   }
  },
  {
   "cell_type": "code",
   "execution_count": 40,
   "outputs": [
    {
     "data": {
      "text/plain": "array([[7., 8., 4., 6., 3., 5.],\n       [5., 3., 3., 8., 4., 3.],\n       [5., 8., 1., 4., 2., 3.],\n       [5., 2., 3., 6., 2., 6.],\n       [2., 7., 4., 4., 7., 1.]])"
     },
     "execution_count": 40,
     "metadata": {},
     "output_type": "execute_result"
    }
   ],
   "source": [
    "a"
   ],
   "metadata": {
    "collapsed": false,
    "pycharm": {
     "name": "#%%\n"
    }
   }
  },
  {
   "cell_type": "code",
   "execution_count": 41,
   "outputs": [
    {
     "data": {
      "text/plain": "array([[ 7.        ,  8.        ,  4.        ,  6.        ,  3.        ,\n         5.        ],\n       [ 0.        , -2.71428571,  0.14285714,  3.71428571,  1.85714286,\n        -0.57142857],\n       [ 0.        ,  0.        , -1.73684211,  2.84210526,  1.42105263,\n        -1.05263158],\n       [ 0.        ,  0.        ,  0.        , -3.45454545, -2.72727273,\n         3.24242424],\n       [ 0.        ,  0.        ,  0.        ,  0.        ,  1.        ,\n         9.66666667]])"
     },
     "execution_count": 41,
     "metadata": {},
     "output_type": "execute_result"
    }
   ],
   "source": [
    "# Gauss elimination\n",
    "for i in range(n):\n",
    "    if a[i, i] == 0:\n",
    "        sys.exit(\"Division by zero.\")\n",
    "\n",
    "    for j in range(i+1, n):\n",
    "        ratio = a[j, i] / a[i, i]\n",
    "\n",
    "        for k in range(n+1):\n",
    "            a[j, k] = a[j, k] - ratio * a[i, k]\n",
    "\n",
    "a"
   ],
   "metadata": {
    "collapsed": false,
    "pycharm": {
     "name": "#%%\n"
    }
   }
  },
  {
   "cell_type": "code",
   "execution_count": 42,
   "outputs": [
    {
     "data": {
      "text/plain": "array([13.        , -5.19298246, -5.50877193, -8.57017544,  9.66666667])"
     },
     "execution_count": 42,
     "metadata": {},
     "output_type": "execute_result"
    }
   ],
   "source": [
    "# back substitution\n",
    "x[n-1] = a[n-1, n] / a[n-1, n-1]\n",
    "\n",
    "for i in range(n-2, -1, -1):\n",
    "    x[i] = a[i, n]\n",
    "\n",
    "    for j in range(i+1, n):\n",
    "        x[i] = x[i] - a[i, j] * x[j]\n",
    "\n",
    "    x[i] = x[i] / a[i, i]\n",
    "\n",
    "x"
   ],
   "metadata": {
    "collapsed": false,
    "pycharm": {
     "name": "#%%\n"
    }
   }
  }
 ],
 "metadata": {
  "kernelspec": {
   "display_name": "Python 3",
   "language": "python",
   "name": "python3"
  },
  "language_info": {
   "codemirror_mode": {
    "name": "ipython",
    "version": 2
   },
   "file_extension": ".py",
   "mimetype": "text/x-python",
   "name": "python",
   "nbconvert_exporter": "python",
   "pygments_lexer": "ipython2",
   "version": "2.7.6"
  }
 },
 "nbformat": 4,
 "nbformat_minor": 0
}